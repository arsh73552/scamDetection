{
 "cells": [
  {
   "cell_type": "code",
   "execution_count": 8,
   "metadata": {},
   "outputs": [],
   "source": [
    "import tensorflow as tf\n",
    "import numpy as np\n",
    "import pandas as pd\n",
    "from sklearn.model_selection import train_test_split\n",
    "from sklearn import metrics\n",
    "\n",
    "data = pd.read_csv('preprocessed.csv')\n",
    "data.drop(['ranking', 'Unnamed: 0'], axis = 1, inplace=True)\n",
    "X, Y = data.drop(['label', 'notlabel'], axis = 1), data[['label', 'notlabel']]\n",
    "X_train, X_test,y_train, y_test = train_test_split(X, Y, test_size=0.25, shuffle=True)\n"
   ]
  },
  {
   "cell_type": "code",
   "execution_count": 19,
   "metadata": {},
   "outputs": [
    {
     "name": "stdout",
     "output_type": "stream",
     "text": [
      "750/750 [==============================] - 2s 2ms/step\n"
     ]
    }
   ],
   "source": [
    "predictions = model.predict(X_test)"
   ]
  },
  {
   "cell_type": "code",
   "execution_count": 20,
   "metadata": {},
   "outputs": [
    {
     "data": {
      "text/plain": [
       "array([[9.9572033e-01, 4.2796405e-03],\n",
       "       [9.9915552e-01, 8.4451528e-04],\n",
       "       [7.6081532e-01, 2.3918468e-01],\n",
       "       ...,\n",
       "       [9.9998999e-01, 9.9688141e-06],\n",
       "       [9.9999988e-01, 8.3339700e-08],\n",
       "       [9.0439963e-01, 9.5600374e-02]], dtype=float32)"
      ]
     },
     "execution_count": 20,
     "metadata": {},
     "output_type": "execute_result"
    }
   ],
   "source": [
    "predictions"
   ]
  },
  {
   "cell_type": "code",
   "execution_count": 10,
   "metadata": {},
   "outputs": [],
   "source": [
    "model = tf.keras.models.Sequential([\n",
    "    tf.keras.layers.Dense(256, input_shape=(8,), activation='LeakyReLU'),\n",
    "    tf.keras.layers.BatchNormalization(),\n",
    "    tf.keras.layers.Dense(2, activation=\"softmax\")\n",
    "])\n",
    "model.compile(\n",
    "    optimizer=\"adam\",\n",
    "    loss=\"categorical_crossentropy\",\n",
    "    metrics=[\"accuracy\"]\n",
    ")"
   ]
  },
  {
   "cell_type": "code",
   "execution_count": 11,
   "metadata": {},
   "outputs": [
    {
     "name": "stdout",
     "output_type": "stream",
     "text": [
      "Epoch 1/30\n",
      "36/36 [==============================] - 1s 5ms/step - loss: 0.5353 - accuracy: 0.7198\n",
      "Epoch 2/30\n",
      "36/36 [==============================] - 0s 5ms/step - loss: 0.3870 - accuracy: 0.8183\n",
      "Epoch 3/30\n",
      "36/36 [==============================] - 0s 5ms/step - loss: 0.3737 - accuracy: 0.8217\n",
      "Epoch 4/30\n",
      "36/36 [==============================] - 0s 5ms/step - loss: 0.3652 - accuracy: 0.8263\n",
      "Epoch 5/30\n",
      "36/36 [==============================] - 0s 5ms/step - loss: 0.3591 - accuracy: 0.8281\n",
      "Epoch 6/30\n",
      "36/36 [==============================] - 0s 5ms/step - loss: 0.3542 - accuracy: 0.8319\n",
      "Epoch 7/30\n",
      "36/36 [==============================] - 0s 5ms/step - loss: 0.3511 - accuracy: 0.8320\n",
      "Epoch 8/30\n",
      "36/36 [==============================] - 0s 6ms/step - loss: 0.3481 - accuracy: 0.8345\n",
      "Epoch 9/30\n",
      "36/36 [==============================] - 0s 5ms/step - loss: 0.3459 - accuracy: 0.8344\n",
      "Epoch 10/30\n",
      "36/36 [==============================] - 0s 5ms/step - loss: 0.3447 - accuracy: 0.8359\n",
      "Epoch 11/30\n",
      "36/36 [==============================] - 0s 5ms/step - loss: 0.3441 - accuracy: 0.8359\n",
      "Epoch 12/30\n",
      "36/36 [==============================] - 0s 5ms/step - loss: 0.3426 - accuracy: 0.8377\n",
      "Epoch 13/30\n",
      "36/36 [==============================] - 0s 5ms/step - loss: 0.3419 - accuracy: 0.8383\n",
      "Epoch 14/30\n",
      "36/36 [==============================] - 0s 7ms/step - loss: 0.3410 - accuracy: 0.8388\n",
      "Epoch 15/30\n",
      "36/36 [==============================] - 0s 6ms/step - loss: 0.3402 - accuracy: 0.8375\n",
      "Epoch 16/30\n",
      "36/36 [==============================] - 0s 5ms/step - loss: 0.3387 - accuracy: 0.8409\n",
      "Epoch 17/30\n",
      "36/36 [==============================] - 0s 6ms/step - loss: 0.3377 - accuracy: 0.8393\n",
      "Epoch 18/30\n",
      "36/36 [==============================] - 0s 6ms/step - loss: 0.3371 - accuracy: 0.8392\n",
      "Epoch 19/30\n",
      "36/36 [==============================] - 0s 5ms/step - loss: 0.3352 - accuracy: 0.8406\n",
      "Epoch 20/30\n",
      "36/36 [==============================] - 0s 5ms/step - loss: 0.3349 - accuracy: 0.8402\n",
      "Epoch 21/30\n",
      "36/36 [==============================] - 0s 6ms/step - loss: 0.3326 - accuracy: 0.8417\n",
      "Epoch 22/30\n",
      "36/36 [==============================] - 0s 7ms/step - loss: 0.3314 - accuracy: 0.8414\n",
      "Epoch 23/30\n",
      "36/36 [==============================] - 0s 5ms/step - loss: 0.3296 - accuracy: 0.8428\n",
      "Epoch 24/30\n",
      "36/36 [==============================] - 0s 5ms/step - loss: 0.3278 - accuracy: 0.8444\n",
      "Epoch 25/30\n",
      "36/36 [==============================] - 0s 5ms/step - loss: 0.3269 - accuracy: 0.8461\n",
      "Epoch 26/30\n",
      "36/36 [==============================] - 0s 5ms/step - loss: 0.3254 - accuracy: 0.8450\n",
      "Epoch 27/30\n",
      "36/36 [==============================] - 0s 5ms/step - loss: 0.3233 - accuracy: 0.8471\n",
      "Epoch 28/30\n",
      "36/36 [==============================] - 0s 5ms/step - loss: 0.3220 - accuracy: 0.8486\n",
      "Epoch 29/30\n",
      "36/36 [==============================] - 0s 5ms/step - loss: 0.3219 - accuracy: 0.8475\n",
      "Epoch 30/30\n",
      "36/36 [==============================] - 0s 5ms/step - loss: 0.3201 - accuracy: 0.8496\n"
     ]
    },
    {
     "data": {
      "text/plain": [
       "<keras.callbacks.History at 0x19308e55f10>"
      ]
     },
     "execution_count": 11,
     "metadata": {},
     "output_type": "execute_result"
    }
   ],
   "source": [
    "model.fit(X_train, y_train, epochs=30, batch_size=2048)"
   ]
  },
  {
   "cell_type": "code",
   "execution_count": 13,
   "metadata": {},
   "outputs": [
    {
     "name": "stdout",
     "output_type": "stream",
     "text": [
      "750/750 [==============================] - 2s 3ms/step - loss: 0.3119 - accuracy: 0.8544\n"
     ]
    },
    {
     "data": {
      "text/plain": [
       "[0.31191733479499817, 0.8544082045555115]"
      ]
     },
     "execution_count": 13,
     "metadata": {},
     "output_type": "execute_result"
    }
   ],
   "source": [
    "model.evaluate(X_test, y_test, verbose=1)"
   ]
  },
  {
   "cell_type": "code",
   "execution_count": 9,
   "metadata": {},
   "outputs": [
    {
     "data": {
      "text/html": [
       "<div>\n",
       "<style scoped>\n",
       "    .dataframe tbody tr th:only-of-type {\n",
       "        vertical-align: middle;\n",
       "    }\n",
       "\n",
       "    .dataframe tbody tr th {\n",
       "        vertical-align: top;\n",
       "    }\n",
       "\n",
       "    .dataframe thead th {\n",
       "        text-align: right;\n",
       "    }\n",
       "</style>\n",
       "<table border=\"1\" class=\"dataframe\">\n",
       "  <thead>\n",
       "    <tr style=\"text-align: right;\">\n",
       "      <th></th>\n",
       "      <th>Unnamed: 0</th>\n",
       "      <th>ranking</th>\n",
       "      <th>isIp</th>\n",
       "      <th>valid</th>\n",
       "      <th>urlLen</th>\n",
       "      <th>is@</th>\n",
       "      <th>isredirect</th>\n",
       "      <th>haveDash</th>\n",
       "      <th>domainLen</th>\n",
       "    </tr>\n",
       "  </thead>\n",
       "  <tbody>\n",
       "    <tr>\n",
       "      <th>22975</th>\n",
       "      <td>22975</td>\n",
       "      <td>10000000</td>\n",
       "      <td>0</td>\n",
       "      <td>0</td>\n",
       "      <td>112</td>\n",
       "      <td>0</td>\n",
       "      <td>0</td>\n",
       "      <td>0</td>\n",
       "      <td>18</td>\n",
       "    </tr>\n",
       "    <tr>\n",
       "      <th>42050</th>\n",
       "      <td>42050</td>\n",
       "      <td>10000000</td>\n",
       "      <td>0</td>\n",
       "      <td>1</td>\n",
       "      <td>80</td>\n",
       "      <td>0</td>\n",
       "      <td>0</td>\n",
       "      <td>0</td>\n",
       "      <td>11</td>\n",
       "    </tr>\n",
       "    <tr>\n",
       "      <th>82064</th>\n",
       "      <td>82064</td>\n",
       "      <td>12572</td>\n",
       "      <td>0</td>\n",
       "      <td>0</td>\n",
       "      <td>27</td>\n",
       "      <td>0</td>\n",
       "      <td>0</td>\n",
       "      <td>0</td>\n",
       "      <td>26</td>\n",
       "    </tr>\n",
       "    <tr>\n",
       "      <th>80975</th>\n",
       "      <td>80975</td>\n",
       "      <td>2604</td>\n",
       "      <td>0</td>\n",
       "      <td>0</td>\n",
       "      <td>37</td>\n",
       "      <td>0</td>\n",
       "      <td>0</td>\n",
       "      <td>0</td>\n",
       "      <td>18</td>\n",
       "    </tr>\n",
       "    <tr>\n",
       "      <th>54531</th>\n",
       "      <td>54531</td>\n",
       "      <td>73503</td>\n",
       "      <td>0</td>\n",
       "      <td>0</td>\n",
       "      <td>169</td>\n",
       "      <td>0</td>\n",
       "      <td>0</td>\n",
       "      <td>0</td>\n",
       "      <td>16</td>\n",
       "    </tr>\n",
       "    <tr>\n",
       "      <th>...</th>\n",
       "      <td>...</td>\n",
       "      <td>...</td>\n",
       "      <td>...</td>\n",
       "      <td>...</td>\n",
       "      <td>...</td>\n",
       "      <td>...</td>\n",
       "      <td>...</td>\n",
       "      <td>...</td>\n",
       "      <td>...</td>\n",
       "    </tr>\n",
       "    <tr>\n",
       "      <th>16652</th>\n",
       "      <td>16652</td>\n",
       "      <td>44061</td>\n",
       "      <td>0</td>\n",
       "      <td>1</td>\n",
       "      <td>33</td>\n",
       "      <td>0</td>\n",
       "      <td>0</td>\n",
       "      <td>0</td>\n",
       "      <td>13</td>\n",
       "    </tr>\n",
       "    <tr>\n",
       "      <th>76213</th>\n",
       "      <td>76213</td>\n",
       "      <td>10000000</td>\n",
       "      <td>0</td>\n",
       "      <td>1</td>\n",
       "      <td>92</td>\n",
       "      <td>0</td>\n",
       "      <td>0</td>\n",
       "      <td>0</td>\n",
       "      <td>20</td>\n",
       "    </tr>\n",
       "    <tr>\n",
       "      <th>88397</th>\n",
       "      <td>88397</td>\n",
       "      <td>4570</td>\n",
       "      <td>0</td>\n",
       "      <td>1</td>\n",
       "      <td>343</td>\n",
       "      <td>0</td>\n",
       "      <td>0</td>\n",
       "      <td>1</td>\n",
       "      <td>44</td>\n",
       "    </tr>\n",
       "    <tr>\n",
       "      <th>66319</th>\n",
       "      <td>66319</td>\n",
       "      <td>10000000</td>\n",
       "      <td>0</td>\n",
       "      <td>0</td>\n",
       "      <td>32</td>\n",
       "      <td>0</td>\n",
       "      <td>0</td>\n",
       "      <td>0</td>\n",
       "      <td>11</td>\n",
       "    </tr>\n",
       "    <tr>\n",
       "      <th>72019</th>\n",
       "      <td>72019</td>\n",
       "      <td>10000000</td>\n",
       "      <td>0</td>\n",
       "      <td>0</td>\n",
       "      <td>44</td>\n",
       "      <td>0</td>\n",
       "      <td>0</td>\n",
       "      <td>1</td>\n",
       "      <td>23</td>\n",
       "    </tr>\n",
       "  </tbody>\n",
       "</table>\n",
       "<p>23978 rows × 9 columns</p>\n",
       "</div>"
      ],
      "text/plain": [
       "       Unnamed: 0   ranking  isIp  valid  urlLen  is@  isredirect  haveDash   \n",
       "22975       22975  10000000     0      0     112    0           0         0  \\\n",
       "42050       42050  10000000     0      1      80    0           0         0   \n",
       "82064       82064     12572     0      0      27    0           0         0   \n",
       "80975       80975      2604     0      0      37    0           0         0   \n",
       "54531       54531     73503     0      0     169    0           0         0   \n",
       "...           ...       ...   ...    ...     ...  ...         ...       ...   \n",
       "16652       16652     44061     0      1      33    0           0         0   \n",
       "76213       76213  10000000     0      1      92    0           0         0   \n",
       "88397       88397      4570     0      1     343    0           0         1   \n",
       "66319       66319  10000000     0      0      32    0           0         0   \n",
       "72019       72019  10000000     0      0      44    0           0         1   \n",
       "\n",
       "       domainLen  \n",
       "22975         18  \n",
       "42050         11  \n",
       "82064         26  \n",
       "80975         18  \n",
       "54531         16  \n",
       "...          ...  \n",
       "16652         13  \n",
       "76213         20  \n",
       "88397         44  \n",
       "66319         11  \n",
       "72019         23  \n",
       "\n",
       "[23978 rows x 9 columns]"
      ]
     },
     "execution_count": 9,
     "metadata": {},
     "output_type": "execute_result"
    }
   ],
   "source": [
    "X_test"
   ]
  },
  {
   "cell_type": "code",
   "execution_count": 7,
   "metadata": {},
   "outputs": [],
   "source": [
    "model = tf.keras.models.load_model('myModel')"
   ]
  },
  {
   "cell_type": "code",
   "execution_count": 14,
   "metadata": {},
   "outputs": [
    {
     "name": "stderr",
     "output_type": "stream",
     "text": [
      "WARNING:absl:Found untraced functions such as leaky_re_lu_1_layer_call_fn, leaky_re_lu_1_layer_call_and_return_conditional_losses while saving (showing 2 of 2). These functions will not be directly callable after loading.\n"
     ]
    },
    {
     "name": "stdout",
     "output_type": "stream",
     "text": [
      "INFO:tensorflow:Assets written to: myModel\\assets\n"
     ]
    },
    {
     "name": "stderr",
     "output_type": "stream",
     "text": [
      "INFO:tensorflow:Assets written to: myModel\\assets\n"
     ]
    }
   ],
   "source": [
    "model.save('myModel')"
   ]
  }
 ],
 "metadata": {
  "kernelspec": {
   "display_name": "Python 3",
   "language": "python",
   "name": "python3"
  },
  "language_info": {
   "codemirror_mode": {
    "name": "ipython",
    "version": 3
   },
   "file_extension": ".py",
   "mimetype": "text/x-python",
   "name": "python",
   "nbconvert_exporter": "python",
   "pygments_lexer": "ipython3",
   "version": "3.8.0"
  },
  "orig_nbformat": 4
 },
 "nbformat": 4,
 "nbformat_minor": 2
}
